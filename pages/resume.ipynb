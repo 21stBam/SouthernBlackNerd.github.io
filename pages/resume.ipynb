{
 "cells": [
  {
   "cell_type": "markdown",
   "metadata": {},
   "source": [
    "Write your page here."
   ]
  }
 ],
 "metadata": {
  "kernelspec": {
   "display_name": "Python 3",
   "language": "python",
   "name": "python3"
  },
  "language_info": {
   "codemirror_mode": {
    "name": "ipython",
    "version": 3
   },
   "file_extension": ".py",
   "mimetype": "text/x-python",
   "name": "python",
   "nbconvert_exporter": "python",
   "pygments_lexer": "ipython3",
   "version": "3.7.2"
  },
  "nikola": {
   "category": "",
   "date": "2019-04-06 02:00:52 UTC-04:00",
   "description": "Obsa Aba-waji's Resume.",
   "link": "",
   "slug": "resume",
   "status": "private",
   "tags": "",
   "title": "Resume",
   "type": "text"
  }
 },
 "nbformat": 4,
 "nbformat_minor": 2
}
